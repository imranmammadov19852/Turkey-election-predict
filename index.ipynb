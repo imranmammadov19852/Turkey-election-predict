{
 "cells": [
  {
   "cell_type": "code",
   "execution_count": 3,
   "metadata": {},
   "outputs": [],
   "source": [
    "import numpy as np\n",
    "import pandas as pd"
   ]
  },
  {
   "cell_type": "code",
   "execution_count": 4,
   "metadata": {},
   "outputs": [
    {
     "data": {
      "text/html": [
       "<div>\n",
       "<style scoped>\n",
       "    .dataframe tbody tr th:only-of-type {\n",
       "        vertical-align: middle;\n",
       "    }\n",
       "\n",
       "    .dataframe tbody tr th {\n",
       "        vertical-align: top;\n",
       "    }\n",
       "\n",
       "    .dataframe thead th {\n",
       "        text-align: right;\n",
       "    }\n",
       "</style>\n",
       "<table border=\"1\" class=\"dataframe\">\n",
       "  <thead>\n",
       "    <tr style=\"text-align: right;\">\n",
       "      <th></th>\n",
       "      <th>City</th>\n",
       "      <th>AKP(%)</th>\n",
       "      <th>CHP(%)</th>\n",
       "      <th>DEM(%)</th>\n",
       "      <th>MHP(%)</th>\n",
       "      <th>YRP(%)</th>\n",
       "      <th>IYIP(%)</th>\n",
       "      <th>ZAFER(%)</th>\n",
       "    </tr>\n",
       "  </thead>\n",
       "  <tbody>\n",
       "    <tr>\n",
       "      <th>0</th>\n",
       "      <td>Kirklareli</td>\n",
       "      <td>5.94</td>\n",
       "      <td>40.71</td>\n",
       "      <td>0.68</td>\n",
       "      <td>41.50</td>\n",
       "      <td>0.48</td>\n",
       "      <td>5.77</td>\n",
       "      <td>1.16</td>\n",
       "    </tr>\n",
       "    <tr>\n",
       "      <th>1</th>\n",
       "      <td>Edirne</td>\n",
       "      <td>42.49</td>\n",
       "      <td>46.67</td>\n",
       "      <td>1.00</td>\n",
       "      <td>0.00</td>\n",
       "      <td>0.34</td>\n",
       "      <td>5.44</td>\n",
       "      <td>1.94</td>\n",
       "    </tr>\n",
       "    <tr>\n",
       "      <th>2</th>\n",
       "      <td>Tekirdag</td>\n",
       "      <td>35.59</td>\n",
       "      <td>50.26</td>\n",
       "      <td>3.52</td>\n",
       "      <td>0.00</td>\n",
       "      <td>3.38</td>\n",
       "      <td>3.09</td>\n",
       "      <td>2.05</td>\n",
       "    </tr>\n",
       "    <tr>\n",
       "      <th>3</th>\n",
       "      <td>Istanbul</td>\n",
       "      <td>39.59</td>\n",
       "      <td>51.14</td>\n",
       "      <td>2.12</td>\n",
       "      <td>0.00</td>\n",
       "      <td>2.61</td>\n",
       "      <td>0.93</td>\n",
       "      <td>2.13</td>\n",
       "    </tr>\n",
       "    <tr>\n",
       "      <th>4</th>\n",
       "      <td>Kocaeli</td>\n",
       "      <td>45.83</td>\n",
       "      <td>28.97</td>\n",
       "      <td>3.26</td>\n",
       "      <td>0.00</td>\n",
       "      <td>7.60</td>\n",
       "      <td>5.01</td>\n",
       "      <td>3.45</td>\n",
       "    </tr>\n",
       "    <tr>\n",
       "      <th>...</th>\n",
       "      <td>...</td>\n",
       "      <td>...</td>\n",
       "      <td>...</td>\n",
       "      <td>...</td>\n",
       "      <td>...</td>\n",
       "      <td>...</td>\n",
       "      <td>...</td>\n",
       "      <td>...</td>\n",
       "    </tr>\n",
       "    <tr>\n",
       "      <th>76</th>\n",
       "      <td>Siirt</td>\n",
       "      <td>37.14</td>\n",
       "      <td>1.91</td>\n",
       "      <td>49.64</td>\n",
       "      <td>0.00</td>\n",
       "      <td>2.47</td>\n",
       "      <td>0.67</td>\n",
       "      <td>1.62</td>\n",
       "    </tr>\n",
       "    <tr>\n",
       "      <th>77</th>\n",
       "      <td>Sirnak</td>\n",
       "      <td>47.58</td>\n",
       "      <td>4.03</td>\n",
       "      <td>41.04</td>\n",
       "      <td>0.00</td>\n",
       "      <td>3.32</td>\n",
       "      <td>0.00</td>\n",
       "      <td>0.00</td>\n",
       "    </tr>\n",
       "    <tr>\n",
       "      <th>78</th>\n",
       "      <td>Hakkari</td>\n",
       "      <td>46.58</td>\n",
       "      <td>1.43</td>\n",
       "      <td>48.92</td>\n",
       "      <td>0.00</td>\n",
       "      <td>0.75</td>\n",
       "      <td>0.42</td>\n",
       "      <td>0.73</td>\n",
       "    </tr>\n",
       "    <tr>\n",
       "      <th>79</th>\n",
       "      <td>Yalova</td>\n",
       "      <td>40.35</td>\n",
       "      <td>46.39</td>\n",
       "      <td>3.08</td>\n",
       "      <td>0.00</td>\n",
       "      <td>2.52</td>\n",
       "      <td>1.59</td>\n",
       "      <td>1.95</td>\n",
       "    </tr>\n",
       "    <tr>\n",
       "      <th>80</th>\n",
       "      <td>Mersin</td>\n",
       "      <td>0.00</td>\n",
       "      <td>59.52</td>\n",
       "      <td>0.00</td>\n",
       "      <td>31.04</td>\n",
       "      <td>1.17</td>\n",
       "      <td>3.45</td>\n",
       "      <td>1.06</td>\n",
       "    </tr>\n",
       "  </tbody>\n",
       "</table>\n",
       "<p>81 rows × 8 columns</p>\n",
       "</div>"
      ],
      "text/plain": [
       "          City  AKP(%)  CHP(%)  DEM(%)  MHP(%)  YRP(%)  IYIP(%)  ZAFER(%)\n",
       "0   Kirklareli    5.94   40.71    0.68   41.50    0.48     5.77      1.16\n",
       "1       Edirne   42.49   46.67    1.00    0.00    0.34     5.44      1.94\n",
       "2     Tekirdag   35.59   50.26    3.52    0.00    3.38     3.09      2.05\n",
       "3     Istanbul   39.59   51.14    2.12    0.00    2.61     0.93      2.13\n",
       "4      Kocaeli   45.83   28.97    3.26    0.00    7.60     5.01      3.45\n",
       "..         ...     ...     ...     ...     ...     ...      ...       ...\n",
       "76       Siirt   37.14    1.91   49.64    0.00    2.47     0.67      1.62\n",
       "77      Sirnak   47.58    4.03   41.04    0.00    3.32     0.00      0.00\n",
       "78     Hakkari   46.58    1.43   48.92    0.00    0.75     0.42      0.73\n",
       "79      Yalova   40.35   46.39    3.08    0.00    2.52     1.59      1.95\n",
       "80      Mersin    0.00   59.52    0.00   31.04    1.17     3.45      1.06\n",
       "\n",
       "[81 rows x 8 columns]"
      ]
     },
     "execution_count": 4,
     "metadata": {},
     "output_type": "execute_result"
    }
   ],
   "source": [
    "df = pd.read_csv(\"election2024.csv\")\n",
    "\n",
    "df"
   ]
  },
  {
   "cell_type": "code",
   "execution_count": 6,
   "metadata": {},
   "outputs": [
    {
     "data": {
      "text/plain": [
       "Index(['City', 'AKP(%)', 'CHP(%)', 'DEM(%)', 'MHP(%)', 'YRP(%)', 'IYIP(%)',\n",
       "       'ZAFER(%)'],\n",
       "      dtype='object')"
      ]
     },
     "execution_count": 6,
     "metadata": {},
     "output_type": "execute_result"
    }
   ],
   "source": [
    "df.columns"
   ]
  },
  {
   "cell_type": "code",
   "execution_count": 7,
   "metadata": {},
   "outputs": [
    {
     "data": {
      "text/plain": [
       "RangeIndex(start=0, stop=81, step=1)"
      ]
     },
     "execution_count": 7,
     "metadata": {},
     "output_type": "execute_result"
    }
   ],
   "source": [
    "df.index"
   ]
  }
 ],
 "metadata": {
  "kernelspec": {
   "display_name": "Python 3",
   "language": "python",
   "name": "python3"
  },
  "language_info": {
   "codemirror_mode": {
    "name": "ipython",
    "version": 3
   },
   "file_extension": ".py",
   "mimetype": "text/x-python",
   "name": "python",
   "nbconvert_exporter": "python",
   "pygments_lexer": "ipython3",
   "version": "3.11.8"
  }
 },
 "nbformat": 4,
 "nbformat_minor": 2
}
